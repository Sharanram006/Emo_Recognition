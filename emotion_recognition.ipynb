{
  "metadata": {
    "kernelspec": {
      "language": "python",
      "display_name": "Python 3",
      "name": "python3"
    },
    "language_info": {
      "name": "python",
      "version": "3.7.12",
      "mimetype": "text/x-python",
      "codemirror_mode": {
        "name": "ipython",
        "version": 3
      },
      "pygments_lexer": "ipython3",
      "nbconvert_exporter": "python",
      "file_extension": ".py"
    },
    "colab": {
      "name": "emotion-recognition.ipynb",
      "provenance": [],
      "collapsed_sections": [],
      "toc_visible": true
    }
  },
  "nbformat_minor": 0,
  "nbformat": 4,
  "cells": [
    {
      "cell_type": "code",
      "source": [
        "import numpy as np \n",
        "import pandas as pd\n",
        "import os \n",
        "import librosa \n",
        "import wave \n",
        "import matplotlib.pyplot as plt \n",
        "\n",
        "from sklearn.model_selection import train_test_split\n",
        "from sklearn.neural_network import MLPClassifier\n",
        "from sklearn.metrics import accuracy_score\n",
        "\n",
        "import keras\n",
        "from tensorflow.keras.utils import to_categorical\n",
        "from keras.models import Sequential\n",
        "from keras.layers import *\n",
        "from keras.optimizer_v1 import rmsprop\n",
        "print(\"Libraries loaded\")\n"
      ],
      "metadata": {
        "id": "0pVEWjIBmRy1",
        "trusted": true,
        "colab": {
          "base_uri": "https://localhost:8080/"
        },
        "outputId": "50367ee9-f52b-4bd2-aaea-1814e740948a"
      },
      "execution_count": 4,
      "outputs": [
        {
          "output_type": "stream",
          "name": "stdout",
          "text": [
            "Libraries loaded\n"
          ]
        }
      ]
    },
    {
      "cell_type": "code",
      "source": [
        "from google.colab import drive\n",
        "drive.mount('/content/drive')"
      ],
      "metadata": {
        "colab": {
          "base_uri": "https://localhost:8080/"
        },
        "id": "zhqN8_yhjDw7",
        "outputId": "967c7c5e-a345-4d5a-fb9c-c8ee22d7ccbe"
      },
      "execution_count": 5,
      "outputs": [
        {
          "output_type": "stream",
          "name": "stdout",
          "text": [
            "Drive already mounted at /content/drive; to attempt to forcibly remount, call drive.mount(\"/content/drive\", force_remount=True).\n"
          ]
        }
      ]
    },
    {
      "cell_type": "code",
      "source": [
        "def extract_mfcc(wav_file_name):\n",
        "\n",
        "    y, sr = librosa.load(wav_file_name)\n",
        "    mfccs = np.mean(librosa.feature.mfcc(y=y, sr=sr, n_mfcc=40).T,axis=0)\n",
        "    \n",
        "    return mfccs"
      ],
      "metadata": {
        "id": "3unlnJEOm41Y",
        "trusted": true
      },
      "execution_count": 7,
      "outputs": []
    },
    {
      "cell_type": "code",
      "source": [
        "\n",
        "radvess_speech_labels = [] \n",
        "ravdess_speech_data = [] \n",
        "for dirname, _, filenames in os.walk('/content/drive/MyDrive/Colab Notebooks/ravdess-emotional-speech-audio'):\n",
        "    for filename in filenames:\n",
        "     \n",
        "        radvess_speech_labels.append(int(filename[7:8]) - 1) \n",
        "        wav_file_name = os.path.join(dirname, filename)\n",
        "        ravdess_speech_data.append(extract_mfcc(wav_file_name)) \n",
        "        \n",
        "print(\"Finish Loading the Dataset\")"
      ],
      "metadata": {
        "id": "l4lKjxFRotf3",
        "trusted": true,
        "colab": {
          "base_uri": "https://localhost:8080/"
        },
        "outputId": "966de9b4-7e4c-4926-962e-be4a1da927db"
      },
      "execution_count": 8,
      "outputs": [
        {
          "output_type": "stream",
          "name": "stdout",
          "text": [
            "Finish Loading the Dataset\n"
          ]
        }
      ]
    },
    {
      "cell_type": "code",
      "source": [
        "\n",
        "ravdess_speech_data_array = np.asarray(ravdess_speech_data)\n",
        "ravdess_speech_label_array = np.array(radvess_speech_labels)\n",
        "ravdess_speech_label_array.shape \n",
        "\n",
        "labels_categorical = to_categorical(ravdess_speech_label_array) \n",
        "labels_categorical.shape"
      ],
      "metadata": {
        "id": "fxOd7FxJq7Q0",
        "trusted": true,
        "colab": {
          "base_uri": "https://localhost:8080/"
        },
        "outputId": "97bcec61-f7b3-4c1e-8cd6-27356b9552e5"
      },
      "execution_count": 10,
      "outputs": [
        {
          "output_type": "execute_result",
          "data": {
            "text/plain": [
              "(2880, 8)"
            ]
          },
          "metadata": {},
          "execution_count": 10
        }
      ]
    },
    {
      "cell_type": "code",
      "source": [
        "ravdess_speech_data_array.shape"
      ],
      "metadata": {
        "id": "NualJII1tjI8",
        "trusted": true,
        "colab": {
          "base_uri": "https://localhost:8080/"
        },
        "outputId": "76f5e817-7b1f-4074-d347-71e10d58a2e8"
      },
      "execution_count": 11,
      "outputs": [
        {
          "output_type": "execute_result",
          "data": {
            "text/plain": [
              "(2880, 40)"
            ]
          },
          "metadata": {},
          "execution_count": 11
        }
      ]
    },
    {
      "cell_type": "code",
      "source": [
        "x_train,x_test,y_train,y_test= train_test_split(np.array(ravdess_speech_data_array),labels_categorical, test_size=0.20, random_state=9)"
      ],
      "metadata": {
        "id": "LNjeJVzx2iqa",
        "trusted": true
      },
      "execution_count": 12,
      "outputs": []
    },
    {
      "cell_type": "code",
      "source": [
        "\n",
        "number_of_samples = ravdess_speech_data_array.shape[0]\n",
        "training_samples = int(number_of_samples * 0.8)\n",
        "validation_samples = int(number_of_samples * 0.1)\n",
        "test_samples = int(number_of_samples * 0.1)"
      ],
      "metadata": {
        "id": "0NVZVpxo26qM",
        "trusted": true
      },
      "execution_count": 13,
      "outputs": []
    },
    {
      "cell_type": "code",
      "source": [
        "\n",
        "def create_model_LSTM():\n",
        "    model = Sequential()\n",
        "    model.add(LSTM(128, return_sequences=False, input_shape=(40, 1)))\n",
        "    model.add(Dense(64))\n",
        "    model.add(Dropout(0.4))\n",
        "    model.add(Activation('relu'))\n",
        "    model.add(Dense(32))\n",
        "    model.add(Dropout(0.4))\n",
        "    model.add(Activation('relu'))\n",
        "    model.add(Dense(8))\n",
        "    model.add(Activation('softmax'))\n",
        "    \n",
        "    model.compile(loss='categorical_crossentropy', optimizer='Adam', metrics=['accuracy'])\n",
        "    return model"
      ],
      "metadata": {
        "id": "isfbzKD92_J-",
        "trusted": true
      },
      "execution_count": 14,
      "outputs": []
    },
    {
      "cell_type": "code",
      "source": [
        "w = np.expand_dims(ravdess_speech_data_array[:training_samples],-1)"
      ],
      "metadata": {
        "id": "g9av1KQP3GKI",
        "trusted": true
      },
      "execution_count": 15,
      "outputs": []
    },
    {
      "cell_type": "code",
      "source": [
        "w.shape"
      ],
      "metadata": {
        "id": "QpnYrMsV3Jq0",
        "trusted": true,
        "colab": {
          "base_uri": "https://localhost:8080/"
        },
        "outputId": "fc7d2098-5412-43f1-c855-c8e438d3b647"
      },
      "execution_count": 16,
      "outputs": [
        {
          "output_type": "execute_result",
          "data": {
            "text/plain": [
              "(2304, 40, 1)"
            ]
          },
          "metadata": {},
          "execution_count": 16
        }
      ]
    },
    {
      "cell_type": "code",
      "source": [
        "### train using LSTM model\n",
        "model_A = create_model_LSTM()\n",
        "history = model_A.fit(np.expand_dims(ravdess_speech_data_array[:training_samples],-1), labels_categorical[:training_samples], validation_data=(np.expand_dims(ravdess_speech_data_array[training_samples:training_samples+validation_samples], -1), labels_categorical[training_samples:training_samples+validation_samples]), epochs=121, shuffle=True)"
      ],
      "metadata": {
        "id": "_089nrzW3ORh",
        "trusted": true,
        "colab": {
          "base_uri": "https://localhost:8080/"
        },
        "outputId": "fb71f20e-4ec8-4a42-9c87-fb1df5b47c02"
      },
      "execution_count": 17,
      "outputs": [
        {
          "output_type": "stream",
          "name": "stdout",
          "text": [
            "Epoch 1/121\n",
            "72/72 [==============================] - 7s 57ms/step - loss: 2.0668 - accuracy: 0.1532 - val_loss: 2.0362 - val_accuracy: 0.2014\n",
            "Epoch 2/121\n",
            "72/72 [==============================] - 3s 42ms/step - loss: 2.0262 - accuracy: 0.1806 - val_loss: 1.9751 - val_accuracy: 0.2396\n",
            "Epoch 3/121\n",
            "72/72 [==============================] - 3s 41ms/step - loss: 1.9807 - accuracy: 0.2079 - val_loss: 1.9370 - val_accuracy: 0.2535\n",
            "Epoch 4/121\n",
            "72/72 [==============================] - 3s 40ms/step - loss: 1.9416 - accuracy: 0.2305 - val_loss: 1.8838 - val_accuracy: 0.2847\n",
            "Epoch 5/121\n",
            "72/72 [==============================] - 3s 41ms/step - loss: 1.9237 - accuracy: 0.2374 - val_loss: 1.8718 - val_accuracy: 0.2500\n",
            "Epoch 6/121\n",
            "72/72 [==============================] - 3s 41ms/step - loss: 1.8869 - accuracy: 0.2604 - val_loss: 1.8327 - val_accuracy: 0.2812\n",
            "Epoch 7/121\n",
            "72/72 [==============================] - 3s 41ms/step - loss: 1.8628 - accuracy: 0.2847 - val_loss: 1.7956 - val_accuracy: 0.3125\n",
            "Epoch 8/121\n",
            "72/72 [==============================] - 3s 41ms/step - loss: 1.8552 - accuracy: 0.2882 - val_loss: 1.8130 - val_accuracy: 0.2708\n",
            "Epoch 9/121\n",
            "72/72 [==============================] - 3s 41ms/step - loss: 1.8451 - accuracy: 0.2930 - val_loss: 1.8047 - val_accuracy: 0.2812\n",
            "Epoch 10/121\n",
            "72/72 [==============================] - 3s 42ms/step - loss: 1.8183 - accuracy: 0.2904 - val_loss: 1.8260 - val_accuracy: 0.2639\n",
            "Epoch 11/121\n",
            "72/72 [==============================] - 3s 41ms/step - loss: 1.7789 - accuracy: 0.3116 - val_loss: 1.7741 - val_accuracy: 0.2708\n",
            "Epoch 12/121\n",
            "72/72 [==============================] - 3s 41ms/step - loss: 1.7809 - accuracy: 0.3082 - val_loss: 1.7541 - val_accuracy: 0.2986\n",
            "Epoch 13/121\n",
            "72/72 [==============================] - 3s 45ms/step - loss: 1.7744 - accuracy: 0.3090 - val_loss: 1.7509 - val_accuracy: 0.2951\n",
            "Epoch 14/121\n",
            "72/72 [==============================] - 3s 48ms/step - loss: 1.7507 - accuracy: 0.3138 - val_loss: 1.7544 - val_accuracy: 0.2812\n",
            "Epoch 15/121\n",
            "72/72 [==============================] - 4s 54ms/step - loss: 1.7316 - accuracy: 0.3286 - val_loss: 1.7163 - val_accuracy: 0.3090\n",
            "Epoch 16/121\n",
            "72/72 [==============================] - 3s 41ms/step - loss: 1.7276 - accuracy: 0.3260 - val_loss: 1.7259 - val_accuracy: 0.2743\n",
            "Epoch 17/121\n",
            "72/72 [==============================] - 3s 42ms/step - loss: 1.7079 - accuracy: 0.3316 - val_loss: 1.7310 - val_accuracy: 0.2882\n",
            "Epoch 18/121\n",
            "72/72 [==============================] - 3s 41ms/step - loss: 1.6917 - accuracy: 0.3390 - val_loss: 1.7379 - val_accuracy: 0.3056\n",
            "Epoch 19/121\n",
            "72/72 [==============================] - 3s 41ms/step - loss: 1.6659 - accuracy: 0.3533 - val_loss: 1.7424 - val_accuracy: 0.2986\n",
            "Epoch 20/121\n",
            "72/72 [==============================] - 3s 41ms/step - loss: 1.6584 - accuracy: 0.3563 - val_loss: 1.6563 - val_accuracy: 0.3056\n",
            "Epoch 21/121\n",
            "72/72 [==============================] - 3s 41ms/step - loss: 1.5936 - accuracy: 0.3776 - val_loss: 1.6199 - val_accuracy: 0.3299\n",
            "Epoch 22/121\n",
            "72/72 [==============================] - 3s 41ms/step - loss: 1.6024 - accuracy: 0.3702 - val_loss: 1.6126 - val_accuracy: 0.3229\n",
            "Epoch 23/121\n",
            "72/72 [==============================] - 3s 41ms/step - loss: 1.5517 - accuracy: 0.3885 - val_loss: 1.5877 - val_accuracy: 0.3681\n",
            "Epoch 24/121\n",
            "72/72 [==============================] - 3s 41ms/step - loss: 1.5568 - accuracy: 0.3997 - val_loss: 1.5499 - val_accuracy: 0.3750\n",
            "Epoch 25/121\n",
            "72/72 [==============================] - 3s 41ms/step - loss: 1.5229 - accuracy: 0.3989 - val_loss: 1.5722 - val_accuracy: 0.3854\n",
            "Epoch 26/121\n",
            "72/72 [==============================] - 3s 41ms/step - loss: 1.4888 - accuracy: 0.4102 - val_loss: 1.5963 - val_accuracy: 0.3750\n",
            "Epoch 27/121\n",
            "72/72 [==============================] - 3s 41ms/step - loss: 1.4917 - accuracy: 0.4280 - val_loss: 1.6043 - val_accuracy: 0.3819\n",
            "Epoch 28/121\n",
            "72/72 [==============================] - 3s 40ms/step - loss: 1.4453 - accuracy: 0.4544 - val_loss: 1.5064 - val_accuracy: 0.3993\n",
            "Epoch 29/121\n",
            "72/72 [==============================] - 3s 41ms/step - loss: 1.4584 - accuracy: 0.4462 - val_loss: 1.5089 - val_accuracy: 0.3889\n",
            "Epoch 30/121\n",
            "72/72 [==============================] - 3s 40ms/step - loss: 1.4205 - accuracy: 0.4648 - val_loss: 1.5207 - val_accuracy: 0.3958\n",
            "Epoch 31/121\n",
            "72/72 [==============================] - 3s 42ms/step - loss: 1.3837 - accuracy: 0.4757 - val_loss: 1.5994 - val_accuracy: 0.3924\n",
            "Epoch 32/121\n",
            "72/72 [==============================] - 3s 41ms/step - loss: 1.4092 - accuracy: 0.4701 - val_loss: 1.4855 - val_accuracy: 0.3993\n",
            "Epoch 33/121\n",
            "72/72 [==============================] - 3s 43ms/step - loss: 1.3394 - accuracy: 0.4839 - val_loss: 1.3755 - val_accuracy: 0.4340\n",
            "Epoch 34/121\n",
            "72/72 [==============================] - 3s 41ms/step - loss: 1.3332 - accuracy: 0.5082 - val_loss: 1.4199 - val_accuracy: 0.4201\n",
            "Epoch 35/121\n",
            "72/72 [==============================] - 3s 41ms/step - loss: 1.2808 - accuracy: 0.5252 - val_loss: 1.3681 - val_accuracy: 0.4549\n",
            "Epoch 36/121\n",
            "72/72 [==============================] - 3s 41ms/step - loss: 1.2610 - accuracy: 0.5247 - val_loss: 1.3295 - val_accuracy: 0.4931\n",
            "Epoch 37/121\n",
            "72/72 [==============================] - 3s 42ms/step - loss: 1.2088 - accuracy: 0.5295 - val_loss: 1.3298 - val_accuracy: 0.4618\n",
            "Epoch 38/121\n",
            "72/72 [==============================] - 3s 40ms/step - loss: 1.1607 - accuracy: 0.5547 - val_loss: 1.3188 - val_accuracy: 0.5000\n",
            "Epoch 39/121\n",
            "72/72 [==============================] - 3s 41ms/step - loss: 1.1785 - accuracy: 0.5612 - val_loss: 1.2938 - val_accuracy: 0.5000\n",
            "Epoch 40/121\n",
            "72/72 [==============================] - 3s 40ms/step - loss: 1.1760 - accuracy: 0.5573 - val_loss: 1.2540 - val_accuracy: 0.5000\n",
            "Epoch 41/121\n",
            "72/72 [==============================] - 3s 41ms/step - loss: 1.0975 - accuracy: 0.5781 - val_loss: 1.2697 - val_accuracy: 0.5312\n",
            "Epoch 42/121\n",
            "72/72 [==============================] - 3s 41ms/step - loss: 1.1220 - accuracy: 0.5760 - val_loss: 1.2025 - val_accuracy: 0.5139\n",
            "Epoch 43/121\n",
            "72/72 [==============================] - 3s 41ms/step - loss: 1.0510 - accuracy: 0.5998 - val_loss: 1.2395 - val_accuracy: 0.5069\n",
            "Epoch 44/121\n",
            "72/72 [==============================] - 3s 41ms/step - loss: 1.0402 - accuracy: 0.6120 - val_loss: 1.1305 - val_accuracy: 0.5694\n",
            "Epoch 45/121\n",
            "72/72 [==============================] - 3s 41ms/step - loss: 1.0293 - accuracy: 0.6029 - val_loss: 1.2073 - val_accuracy: 0.5278\n",
            "Epoch 46/121\n",
            "72/72 [==============================] - 3s 41ms/step - loss: 1.0024 - accuracy: 0.6285 - val_loss: 1.0870 - val_accuracy: 0.5521\n",
            "Epoch 47/121\n",
            "72/72 [==============================] - 3s 41ms/step - loss: 0.9444 - accuracy: 0.6441 - val_loss: 1.0906 - val_accuracy: 0.5833\n",
            "Epoch 48/121\n",
            "72/72 [==============================] - 3s 41ms/step - loss: 0.9326 - accuracy: 0.6528 - val_loss: 1.0651 - val_accuracy: 0.5625\n",
            "Epoch 49/121\n",
            "72/72 [==============================] - 3s 41ms/step - loss: 0.9156 - accuracy: 0.6597 - val_loss: 1.0375 - val_accuracy: 0.6111\n",
            "Epoch 50/121\n",
            "72/72 [==============================] - 3s 42ms/step - loss: 0.8933 - accuracy: 0.6619 - val_loss: 1.0931 - val_accuracy: 0.5660\n",
            "Epoch 51/121\n",
            "72/72 [==============================] - 3s 41ms/step - loss: 0.9036 - accuracy: 0.6623 - val_loss: 0.9768 - val_accuracy: 0.6319\n",
            "Epoch 52/121\n",
            "72/72 [==============================] - 3s 42ms/step - loss: 0.8282 - accuracy: 0.6871 - val_loss: 0.9855 - val_accuracy: 0.6181\n",
            "Epoch 53/121\n",
            "72/72 [==============================] - 3s 43ms/step - loss: 0.8292 - accuracy: 0.7010 - val_loss: 0.9429 - val_accuracy: 0.6181\n",
            "Epoch 54/121\n",
            "72/72 [==============================] - 3s 41ms/step - loss: 0.8095 - accuracy: 0.7057 - val_loss: 0.8687 - val_accuracy: 0.6667\n",
            "Epoch 55/121\n",
            "72/72 [==============================] - 3s 41ms/step - loss: 0.7485 - accuracy: 0.7253 - val_loss: 0.9286 - val_accuracy: 0.6458\n",
            "Epoch 56/121\n",
            "72/72 [==============================] - 3s 39ms/step - loss: 0.7937 - accuracy: 0.7014 - val_loss: 0.8830 - val_accuracy: 0.6458\n",
            "Epoch 57/121\n",
            "72/72 [==============================] - 3s 42ms/step - loss: 0.7354 - accuracy: 0.7300 - val_loss: 0.8464 - val_accuracy: 0.6632\n",
            "Epoch 58/121\n",
            "72/72 [==============================] - 3s 42ms/step - loss: 0.7254 - accuracy: 0.7266 - val_loss: 0.8281 - val_accuracy: 0.6875\n",
            "Epoch 59/121\n",
            "72/72 [==============================] - 3s 42ms/step - loss: 0.7740 - accuracy: 0.7218 - val_loss: 0.8066 - val_accuracy: 0.7188\n",
            "Epoch 60/121\n",
            "72/72 [==============================] - 3s 41ms/step - loss: 0.6696 - accuracy: 0.7591 - val_loss: 0.8171 - val_accuracy: 0.6875\n",
            "Epoch 61/121\n",
            "72/72 [==============================] - 3s 40ms/step - loss: 0.6614 - accuracy: 0.7539 - val_loss: 0.7113 - val_accuracy: 0.7326\n",
            "Epoch 62/121\n",
            "72/72 [==============================] - 3s 41ms/step - loss: 0.7131 - accuracy: 0.7483 - val_loss: 0.7792 - val_accuracy: 0.7188\n",
            "Epoch 63/121\n",
            "72/72 [==============================] - 3s 42ms/step - loss: 0.6201 - accuracy: 0.7656 - val_loss: 0.6968 - val_accuracy: 0.7500\n",
            "Epoch 64/121\n",
            "72/72 [==============================] - 3s 41ms/step - loss: 0.5377 - accuracy: 0.8030 - val_loss: 0.6633 - val_accuracy: 0.7500\n",
            "Epoch 65/121\n",
            "72/72 [==============================] - 3s 41ms/step - loss: 0.5786 - accuracy: 0.7912 - val_loss: 0.6628 - val_accuracy: 0.7674\n",
            "Epoch 66/121\n",
            "72/72 [==============================] - 3s 41ms/step - loss: 0.5753 - accuracy: 0.7873 - val_loss: 0.5772 - val_accuracy: 0.7778\n",
            "Epoch 67/121\n",
            "72/72 [==============================] - 3s 41ms/step - loss: 0.5179 - accuracy: 0.8108 - val_loss: 0.5504 - val_accuracy: 0.8125\n",
            "Epoch 68/121\n",
            "72/72 [==============================] - 3s 41ms/step - loss: 0.5151 - accuracy: 0.8116 - val_loss: 0.6703 - val_accuracy: 0.7535\n",
            "Epoch 69/121\n",
            "72/72 [==============================] - 3s 41ms/step - loss: 0.6955 - accuracy: 0.7704 - val_loss: 0.6167 - val_accuracy: 0.7778\n",
            "Epoch 70/121\n",
            "72/72 [==============================] - 3s 41ms/step - loss: 0.5749 - accuracy: 0.7973 - val_loss: 0.5394 - val_accuracy: 0.7812\n",
            "Epoch 71/121\n",
            "72/72 [==============================] - 3s 40ms/step - loss: 0.4648 - accuracy: 0.8273 - val_loss: 0.4670 - val_accuracy: 0.8403\n",
            "Epoch 72/121\n",
            "72/72 [==============================] - 3s 40ms/step - loss: 0.4449 - accuracy: 0.8351 - val_loss: 0.5377 - val_accuracy: 0.8090\n",
            "Epoch 73/121\n",
            "72/72 [==============================] - 3s 42ms/step - loss: 0.4271 - accuracy: 0.8438 - val_loss: 0.4293 - val_accuracy: 0.8403\n",
            "Epoch 74/121\n",
            "72/72 [==============================] - 3s 43ms/step - loss: 0.4621 - accuracy: 0.8359 - val_loss: 0.4798 - val_accuracy: 0.8194\n",
            "Epoch 75/121\n",
            "72/72 [==============================] - 3s 41ms/step - loss: 0.6182 - accuracy: 0.7995 - val_loss: 0.9132 - val_accuracy: 0.7500\n",
            "Epoch 76/121\n",
            "72/72 [==============================] - 3s 41ms/step - loss: 0.4663 - accuracy: 0.8390 - val_loss: 0.5136 - val_accuracy: 0.8299\n",
            "Epoch 77/121\n",
            "72/72 [==============================] - 3s 42ms/step - loss: 0.4568 - accuracy: 0.8403 - val_loss: 0.4416 - val_accuracy: 0.8472\n",
            "Epoch 78/121\n",
            "72/72 [==============================] - 3s 42ms/step - loss: 0.4195 - accuracy: 0.8594 - val_loss: 0.3322 - val_accuracy: 0.8785\n",
            "Epoch 79/121\n",
            "72/72 [==============================] - 3s 41ms/step - loss: 0.3515 - accuracy: 0.8672 - val_loss: 0.3577 - val_accuracy: 0.8646\n",
            "Epoch 80/121\n",
            "72/72 [==============================] - 3s 41ms/step - loss: 0.3883 - accuracy: 0.8611 - val_loss: 0.2865 - val_accuracy: 0.9028\n",
            "Epoch 81/121\n",
            "72/72 [==============================] - 3s 41ms/step - loss: 0.3230 - accuracy: 0.8854 - val_loss: 0.2982 - val_accuracy: 0.8924\n",
            "Epoch 82/121\n",
            "72/72 [==============================] - 3s 41ms/step - loss: 0.2813 - accuracy: 0.9015 - val_loss: 0.2830 - val_accuracy: 0.9132\n",
            "Epoch 83/121\n",
            "72/72 [==============================] - 3s 41ms/step - loss: 0.3268 - accuracy: 0.8859 - val_loss: 0.2499 - val_accuracy: 0.9132\n",
            "Epoch 84/121\n",
            "72/72 [==============================] - 3s 41ms/step - loss: 0.3898 - accuracy: 0.8672 - val_loss: 0.5548 - val_accuracy: 0.8160\n",
            "Epoch 85/121\n",
            "72/72 [==============================] - 3s 42ms/step - loss: 0.5422 - accuracy: 0.8312 - val_loss: 0.4176 - val_accuracy: 0.8472\n",
            "Epoch 86/121\n",
            "72/72 [==============================] - 3s 41ms/step - loss: 0.5086 - accuracy: 0.8446 - val_loss: 0.8182 - val_accuracy: 0.7014\n",
            "Epoch 87/121\n",
            "72/72 [==============================] - 3s 42ms/step - loss: 0.7175 - accuracy: 0.7704 - val_loss: 0.6072 - val_accuracy: 0.7882\n",
            "Epoch 88/121\n",
            "72/72 [==============================] - 3s 41ms/step - loss: 0.4368 - accuracy: 0.8424 - val_loss: 0.3684 - val_accuracy: 0.8646\n",
            "Epoch 89/121\n",
            "72/72 [==============================] - 3s 41ms/step - loss: 0.4077 - accuracy: 0.8672 - val_loss: 0.3171 - val_accuracy: 0.8889\n",
            "Epoch 90/121\n",
            "72/72 [==============================] - 3s 42ms/step - loss: 0.3322 - accuracy: 0.8911 - val_loss: 0.2521 - val_accuracy: 0.8993\n",
            "Epoch 91/121\n",
            "72/72 [==============================] - 3s 42ms/step - loss: 0.2766 - accuracy: 0.9010 - val_loss: 0.2016 - val_accuracy: 0.9410\n",
            "Epoch 92/121\n",
            "72/72 [==============================] - 3s 41ms/step - loss: 0.2377 - accuracy: 0.9180 - val_loss: 0.1746 - val_accuracy: 0.9514\n",
            "Epoch 93/121\n",
            "72/72 [==============================] - 3s 43ms/step - loss: 0.3009 - accuracy: 0.9015 - val_loss: 0.3526 - val_accuracy: 0.8819\n",
            "Epoch 94/121\n",
            "72/72 [==============================] - 3s 44ms/step - loss: 0.3028 - accuracy: 0.8984 - val_loss: 0.2564 - val_accuracy: 0.9236\n",
            "Epoch 95/121\n",
            "72/72 [==============================] - 3s 41ms/step - loss: 0.2288 - accuracy: 0.9258 - val_loss: 0.1660 - val_accuracy: 0.9479\n",
            "Epoch 96/121\n",
            "72/72 [==============================] - 3s 41ms/step - loss: 0.2117 - accuracy: 0.9345 - val_loss: 0.4917 - val_accuracy: 0.8993\n",
            "Epoch 97/121\n",
            "72/72 [==============================] - 3s 42ms/step - loss: 0.2923 - accuracy: 0.9019 - val_loss: 0.2105 - val_accuracy: 0.9306\n",
            "Epoch 98/121\n",
            "72/72 [==============================] - 3s 42ms/step - loss: 0.3505 - accuracy: 0.8872 - val_loss: 0.3209 - val_accuracy: 0.9028\n",
            "Epoch 99/121\n",
            "72/72 [==============================] - 3s 42ms/step - loss: 0.2603 - accuracy: 0.9132 - val_loss: 0.1829 - val_accuracy: 0.9375\n",
            "Epoch 100/121\n",
            "72/72 [==============================] - 3s 42ms/step - loss: 0.3915 - accuracy: 0.8789 - val_loss: 0.2720 - val_accuracy: 0.9132\n",
            "Epoch 101/121\n",
            "72/72 [==============================] - 3s 42ms/step - loss: 0.2452 - accuracy: 0.9206 - val_loss: 0.1957 - val_accuracy: 0.9410\n",
            "Epoch 102/121\n",
            "72/72 [==============================] - 3s 42ms/step - loss: 0.2407 - accuracy: 0.9288 - val_loss: 0.2586 - val_accuracy: 0.9271\n",
            "Epoch 103/121\n",
            "72/72 [==============================] - 3s 41ms/step - loss: 0.2225 - accuracy: 0.9284 - val_loss: 0.1901 - val_accuracy: 0.9271\n",
            "Epoch 104/121\n",
            "72/72 [==============================] - 3s 40ms/step - loss: 0.2269 - accuracy: 0.9249 - val_loss: 0.1161 - val_accuracy: 0.9653\n",
            "Epoch 105/121\n",
            "72/72 [==============================] - 3s 40ms/step - loss: 0.1531 - accuracy: 0.9536 - val_loss: 0.0977 - val_accuracy: 0.9722\n",
            "Epoch 106/121\n",
            "72/72 [==============================] - 3s 42ms/step - loss: 0.1445 - accuracy: 0.9531 - val_loss: 0.1087 - val_accuracy: 0.9722\n",
            "Epoch 107/121\n",
            "72/72 [==============================] - 3s 41ms/step - loss: 0.2096 - accuracy: 0.9397 - val_loss: 0.1700 - val_accuracy: 0.9618\n",
            "Epoch 108/121\n",
            "72/72 [==============================] - 3s 42ms/step - loss: 0.3681 - accuracy: 0.9019 - val_loss: 0.4373 - val_accuracy: 0.8507\n",
            "Epoch 109/121\n",
            "72/72 [==============================] - 3s 42ms/step - loss: 0.2578 - accuracy: 0.9310 - val_loss: 0.1556 - val_accuracy: 0.9514\n",
            "Epoch 110/121\n",
            "72/72 [==============================] - 3s 42ms/step - loss: 0.2163 - accuracy: 0.9353 - val_loss: 0.1574 - val_accuracy: 0.9410\n",
            "Epoch 111/121\n",
            "72/72 [==============================] - 3s 42ms/step - loss: 0.1545 - accuracy: 0.9492 - val_loss: 0.0969 - val_accuracy: 0.9688\n",
            "Epoch 112/121\n",
            "72/72 [==============================] - 3s 42ms/step - loss: 0.1461 - accuracy: 0.9562 - val_loss: 0.0665 - val_accuracy: 0.9792\n",
            "Epoch 113/121\n",
            "72/72 [==============================] - 3s 42ms/step - loss: 0.1603 - accuracy: 0.9479 - val_loss: 0.0994 - val_accuracy: 0.9549\n",
            "Epoch 114/121\n",
            "72/72 [==============================] - 3s 43ms/step - loss: 0.1565 - accuracy: 0.9575 - val_loss: 0.1250 - val_accuracy: 0.9583\n",
            "Epoch 115/121\n",
            "72/72 [==============================] - 3s 42ms/step - loss: 0.1810 - accuracy: 0.9418 - val_loss: 0.3547 - val_accuracy: 0.8958\n",
            "Epoch 116/121\n",
            "72/72 [==============================] - 3s 42ms/step - loss: 0.2813 - accuracy: 0.9171 - val_loss: 0.2430 - val_accuracy: 0.9340\n",
            "Epoch 117/121\n",
            "72/72 [==============================] - 3s 42ms/step - loss: 0.1543 - accuracy: 0.9553 - val_loss: 0.1173 - val_accuracy: 0.9688\n",
            "Epoch 118/121\n",
            "72/72 [==============================] - 3s 42ms/step - loss: 0.2093 - accuracy: 0.9401 - val_loss: 0.2658 - val_accuracy: 0.9444\n",
            "Epoch 119/121\n",
            "72/72 [==============================] - 3s 42ms/step - loss: 0.1798 - accuracy: 0.9410 - val_loss: 0.1386 - val_accuracy: 0.9444\n",
            "Epoch 120/121\n",
            "72/72 [==============================] - 3s 41ms/step - loss: 0.2067 - accuracy: 0.9371 - val_loss: 0.1689 - val_accuracy: 0.9410\n",
            "Epoch 121/121\n",
            "72/72 [==============================] - 3s 42ms/step - loss: 0.2386 - accuracy: 0.9266 - val_loss: 0.2048 - val_accuracy: 0.9410\n"
          ]
        }
      ]
    },
    {
      "cell_type": "code",
      "source": [
        "\n",
        "loss = history.history['loss']\n",
        "val_loss = history.history['val_loss']\n",
        "\n",
        "epochs = range(1, len(loss) + 1)\n",
        "\n",
        "plt.plot(epochs, loss, 'ro', label='Training loss')\n",
        "plt.plot(epochs, val_loss, 'b', label='Validation loss')\n",
        "plt.title('Training and validation loss')\n",
        "plt.xlabel('Epochs')\n",
        "plt.ylabel('Loss')\n",
        "plt.legend()\n",
        "\n",
        "plt.show()"
      ],
      "metadata": {
        "id": "49sgWjRPZxQ7",
        "colab": {
          "base_uri": "https://localhost:8080/",
          "height": 295
        },
        "outputId": "acfb8ab1-730b-4e1f-98ac-1ed6676ebba8"
      },
      "execution_count": 18,
      "outputs": [
        {
          "output_type": "display_data",
          "data": {
            "text/plain": [
              "<Figure size 432x288 with 1 Axes>"
            ],
            "image/png": "[encoded data removed]"
          },
          "metadata": {
            "needs_background": "light"
          }
        }
      ]
    },
    {
      "cell_type": "code",
      "source": [
        "\n",
        "plt.clf()                                                \n",
        "\n",
        "acc = history.history['accuracy']\n",
        "val_acc = history.history['val_accuracy']\n",
        "\n",
        "plt.plot(epochs, acc, 'ro', label='Training acc')\n",
        "plt.plot(epochs, val_acc, 'b', label='Validation acc')\n",
        "plt.title('Training and validation accuracy')\n",
        "plt.xlabel('Epochs')\n",
        "plt.ylabel('Loss')\n",
        "plt.legend()\n",
        "\n",
        "plt.show()"
      ],
      "metadata": {
        "id": "NPE98PkmaesW",
        "colab": {
          "base_uri": "https://localhost:8080/",
          "height": 295
        },
        "outputId": "3f3b695b-8201-4b5e-92f1-f9c96a44e389"
      },
      "execution_count": 19,
      "outputs": [
        {
          "output_type": "display_data",
          "data": {
            "text/plain": [
              "<Figure size 432x288 with 1 Axes>"
            ],
            "image/png": "[encoded data removed]"
          },
          "metadata": {
            "needs_background": "light"
          }
        }
      ]
    },
    {
      "cell_type": "code",
      "source": [
        "\n",
        "model_A.evaluate(np.expand_dims(ravdess_speech_data_array[training_samples + validation_samples:], -1), labels_categorical[training_samples + validation_samples:])"
      ],
      "metadata": {
        "id": "783pOZRiatZI",
        "colab": {
          "base_uri": "https://localhost:8080/"
        },
        "outputId": "645aca7c-6aab-47cf-f1b3-4988c615fe17"
      },
      "execution_count": 20,
      "outputs": [
        {
          "output_type": "stream",
          "name": "stdout",
          "text": [
            "9/9 [==============================] - 0s 16ms/step - loss: 0.3108 - accuracy: 0.8889\n"
          ]
        },
        {
          "output_type": "execute_result",
          "data": {
            "text/plain": [
              "[0.31082600355148315, 0.8888888955116272]"
            ]
          },
          "metadata": {},
          "execution_count": 20
        }
      ]
    },
    {
      "cell_type": "code",
      "source": [
        "emotions={1 : 'neutral', 2 : 'calm', 3 : 'happy', 4 : 'sad', 5 : 'angry', 6 : 'fearful', 7 : 'disgust', 8 : 'surprised'}\n",
        "def predict(wav_filepath):\n",
        "  test_point=extract_mfcc(wav_filepath)\n",
        "  test_point=np.reshape(test_point,newshape=(1,40,1))\n",
        "  predictions=model_A.predict(test_point)\n",
        "  print(emotions[np.argmax(predictions[0])+1])"
      ],
      "metadata": {
        "id": "psBg5s_pbUv6"
      },
      "execution_count": 21,
      "outputs": []
    },
    {
      "cell_type": "code",
      "source": [
        "predict('/content/drive/MyDrive/Colab Notebooks/ravdess-emotional-speech-audio/Actor_11/03-01-01-01-01-01-11.wav')"
      ],
      "metadata": {
        "id": "lYOpRK_Qx1ru",
        "colab": {
          "base_uri": "https://localhost:8080/"
        },
        "outputId": "d0d99935-fc5d-44a8-ffa7-851d7f326609"
      },
      "execution_count": 22,
      "outputs": [
        {
          "output_type": "stream",
          "name": "stdout",
          "text": [
            "neutral\n"
          ]
        }
      ]
    },
    {
      "cell_type": "code",
      "source": [
        "predict('/content/drive/MyDrive/Colab Notebooks/ravdess-emotional-speech-audio/Actor_14/03-01-05-02-01-01-14.wav')"
      ],
      "metadata": {
        "id": "h_ySTT-U1YZ_",
        "colab": {
          "base_uri": "https://localhost:8080/"
        },
        "outputId": "1cf8bf0b-a94c-40fa-b460-880f1edb8164"
      },
      "execution_count": 24,
      "outputs": [
        {
          "output_type": "stream",
          "name": "stdout",
          "text": [
            "angry\n"
          ]
        }
      ]
    },
    {
      "cell_type": "code",
      "source": [
        "model_A.save('mymodel.h5')"
      ],
      "metadata": {
        "id": "_wKd2a4jkE26"
      },
      "execution_count": 29,
      "outputs": []
    },
    {
      "cell_type": "code",
      "source": [
        "modelc=tf.keras.models.load_model('mymodel.h5')"
      ],
      "metadata": {
        "id": "y8vGFhQ1kMeQ"
      },
      "execution_count": 28,
      "outputs": []
    }
  ]
}